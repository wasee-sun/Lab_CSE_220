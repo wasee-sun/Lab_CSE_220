{
  "cells": [
    {
      "cell_type": "markdown",
      "metadata": {
        "id": "view-in-github",
        "colab_type": "text"
      },
      "source": [
        "<a href=\"https://colab.research.google.com/github/wasee-sun/Lab_CSE_220/blob/main/Lab08_22241010.ipynb\" target=\"_parent\"><img src=\"https://colab.research.google.com/assets/colab-badge.svg\" alt=\"Open In Colab\"/></a>"
      ]
    },
    {
      "cell_type": "code",
      "execution_count": null,
      "metadata": {
        "id": "D6vC520OPeTa"
      },
      "outputs": [],
      "source": [
        "class BTNode:\n",
        "  def __init__(self, elem):\n",
        "    self.elem = elem\n",
        "    self.right = None\n",
        "    self.left = None"
      ]
    },
    {
      "cell_type": "code",
      "execution_count": null,
      "metadata": {
        "id": "UDTKlm4-PfNM"
      },
      "outputs": [],
      "source": [
        "def inorder(root):\n",
        "  if root == None:\n",
        "    return\n",
        "\n",
        "  inorder(root.left)\n",
        "  print(root.elem, end = ' ')\n",
        "  inorder(root.right)"
      ]
    },
    {
      "cell_type": "code",
      "execution_count": null,
      "metadata": {
        "colab": {
          "base_uri": "https://localhost:8080/"
        },
        "id": "Rtc22SPzPgzM",
        "outputId": "84f65aa5-c1af-4828-d208-fc4a2630ddc7"
      },
      "outputs": [
        {
          "output_type": "stream",
          "name": "stdout",
          "text": [
            "H D B E A I F J C G k "
          ]
        }
      ],
      "source": [
        "def tree_construction(arr, i = 1):\n",
        "  if i>=len(arr) or arr[i] == None:\n",
        "    return None\n",
        "  p = BTNode(arr[i])\n",
        "  p.left = tree_construction(arr, 2*i)\n",
        "  p.right = tree_construction(arr, 2*i+1)\n",
        "  return p\n",
        "\n",
        "\n",
        "root2 = tree_construction([None, 'A', 'B', 'C', 'D', 'E', 'F', 'G', 'H', None, None, None, 'I', 'J', None, 'k'])\n",
        "inorder(root2)"
      ]
    },
    {
      "cell_type": "markdown",
      "metadata": {
        "id": "S2nNCJNhPqGq"
      },
      "source": [
        "Task 1"
      ]
    },
    {
      "cell_type": "code",
      "execution_count": null,
      "metadata": {
        "id": "zbBHU3FoPieb",
        "colab": {
          "base_uri": "https://localhost:8080/"
        },
        "outputId": "ae7eb106-9b97-469a-cd1a-019fdca68950"
      },
      "outputs": [
        {
          "output_type": "stream",
          "name": "stdout",
          "text": [
            "Given Tree Inorder Traversal:  40 20 60 10 30 \n",
            "Mirrored Tree Inorder Traversal:  30 10 60 20 40 "
          ]
        }
      ],
      "source": [
        "def convert_mirror(root):\n",
        "  mir_right = root.left\n",
        "  mir_left = root.right\n",
        "  if mir_right:\n",
        "    root.left = mir_left\n",
        "    convert_mirror(root.left)\n",
        "  if mir_left:\n",
        "    root.right = mir_right\n",
        "    convert_mirror(root.right)\n",
        "\n",
        "  return root\n",
        "\n",
        "\n",
        "#DRIVER CODE\n",
        "root = BTNode(10)\n",
        "n1 = BTNode(20)\n",
        "n2 = BTNode(30)\n",
        "n3 = BTNode(40)\n",
        "n4 = BTNode(60)\n",
        "\n",
        "root.left = n1\n",
        "root.right = n2\n",
        "\n",
        "n1.left = n3\n",
        "n1.right = n4\n",
        "\n",
        "print('Given Tree Inorder Traversal: ', end = ' ')\n",
        "inorder(root) #Given Tree Inorder Traversal:  40 20 60 10 30\n",
        "print()\n",
        "\n",
        "root2 = convert_mirror(root)\n",
        "print('Mirrored Tree Inorder Traversal: ', end = ' ')\n",
        "inorder(root2) #Mirrored Tree Inorder Traversal:  30 10 60 20 40"
      ]
    },
    {
      "cell_type": "markdown",
      "metadata": {
        "id": "c-TBf3m0PrtK"
      },
      "source": [
        "Task 2"
      ]
    },
    {
      "cell_type": "code",
      "execution_count": null,
      "metadata": {
        "id": "lsuxinlBPmji",
        "colab": {
          "base_uri": "https://localhost:8080/"
        },
        "outputId": "f6fa87ae-d81f-4dd9-aaf6-c74b7a659411"
      },
      "outputs": [
        {
          "output_type": "stream",
          "name": "stdout",
          "text": [
            "Given Tree Inorder Traversal:  3 9 -5 4 2 7 \n",
            "Level Wise Smallest Value:  {0: 4, 1: 2, 2: -5}\n"
          ]
        }
      ],
      "source": [
        "def _smallest_level(root, diction, level):\n",
        "  if level == 0:\n",
        "    diction[level] = root.elem\n",
        "    level += 1\n",
        "\n",
        "  min = None\n",
        "  value1 = root.left\n",
        "  value2 = root.right\n",
        "\n",
        "  if value1 != None and value2 != None:\n",
        "    if value1.elem < value2.elem:\n",
        "      min = value1.elem\n",
        "    else:\n",
        "      min = value2.elem\n",
        "\n",
        "  elif value1 != None:\n",
        "    min = value1.elem\n",
        "\n",
        "  elif value2 != None:\n",
        "    min = value2.elem\n",
        "\n",
        "  if min != None:\n",
        "    if level not in diction.keys():\n",
        "      diction[level] = min\n",
        "      level += 1\n",
        "    else:\n",
        "      if min < diction[level]:\n",
        "        diction[level] = min\n",
        "\n",
        "  if root.left:\n",
        "    diction = _smallest_level(root.left, diction, level)\n",
        "  if root.right:\n",
        "    diction = _smallest_level(root.right, diction, level)\n",
        "\n",
        "  return diction\n",
        "\n",
        "def smallest_level(root):\n",
        "  return _smallest_level(root, {}, 0)\n",
        "\n",
        "#DRIVER CODE\n",
        "root = tree_construction([None, 4,9,2,3,-5,None,7])\n",
        "print('Given Tree Inorder Traversal: ', end = ' ')\n",
        "inorder(root) #Given Tree Inorder Traversal:  3 9 5 4 2 7\n",
        "print()\n",
        "print('Level Wise Smallest Value: ', end = ' ')\n",
        "print(smallest_level(root)) #Level Wise Smallest Value:  {0: 4, 1: 2, 2: -5}"
      ]
    },
    {
      "cell_type": "markdown",
      "metadata": {
        "id": "7r3lH3aWPz2d"
      },
      "source": [
        "Task 3"
      ]
    },
    {
      "cell_type": "code",
      "execution_count": null,
      "metadata": {
        "id": "zFwP64v4Pu6d",
        "colab": {
          "base_uri": "https://localhost:8080/"
        },
        "outputId": "54c912b8-7559-41ca-ec5e-46399ee9f94f"
      },
      "outputs": [
        {
          "output_type": "stream",
          "name": "stdout",
          "text": [
            "Given Tree Inorder Traversal:  4 8 10 12 14 20 22 \n",
            "----------1-----------\n",
            "Inorder predecessor of node 20: 14\n",
            "----------2-----------\n",
            "Inorder predecessor of node 8: 4\n"
          ]
        }
      ],
      "source": [
        "def maximum(node):\n",
        "  if node.right:\n",
        "    return maximum(node.right)\n",
        "  return node\n",
        "\n",
        "def inorder_predecessor(root, x):\n",
        "  return maximum(x.left)\n",
        "\n",
        "#DRIVER CODE\n",
        "root = BTNode(20)\n",
        "n1 = BTNode(8)\n",
        "n2 = BTNode(22)\n",
        "n3 = BTNode(4)\n",
        "n4 = BTNode(12)\n",
        "n5 = BTNode(10)\n",
        "n6 = BTNode(14)\n",
        "\n",
        "root.left = n1\n",
        "root.right = n2\n",
        "\n",
        "n1.left = n3\n",
        "n1.right = n4\n",
        "\n",
        "n4.left = n5\n",
        "n4.right = n6\n",
        "\n",
        "print('Given Tree Inorder Traversal: ', end = ' ')\n",
        "inorder(root) #Given Tree Inorder Traversal:  4 8 10 12 14 20 22\n",
        "print()\n",
        "\n",
        "print(\"----------1-----------\")\n",
        "x = root\n",
        "print(f'Inorder predecessor of node {x.elem}: {inorder_predecessor(root, x).elem}') #Inorder predecessor of node 20: 14\n",
        "\n",
        "print(\"----------2-----------\")\n",
        "x = root.left\n",
        "print(f'Inorder predecessor of node {x.elem}: {inorder_predecessor(root, x).elem}') #Inorder predecessor of node 20: 14"
      ]
    },
    {
      "cell_type": "markdown",
      "metadata": {
        "id": "t3IGW4OaP8Vy"
      },
      "source": [
        "Task 4"
      ]
    },
    {
      "cell_type": "code",
      "execution_count": null,
      "metadata": {
        "id": "d1A-tR7hP2fI",
        "colab": {
          "base_uri": "https://localhost:8080/"
        },
        "outputId": "3a51d202-07fd-4a4d-ff73-f71f2981cefb"
      },
      "outputs": [
        {
          "output_type": "stream",
          "name": "stdout",
          "text": [
            "10\n",
            "15\n",
            "20\n",
            "25\n",
            "10\n"
          ]
        }
      ],
      "source": [
        "def LCA(root, x, y):\n",
        "  if root.left == None and root.right == None:\n",
        "    return None\n",
        "\n",
        "  parent1 = None\n",
        "  parent2 = None\n",
        "\n",
        "  if root.left:\n",
        "    parent1 = LCA(root.left, x, y)\n",
        "  if root.right:\n",
        "    parent2 = LCA(root.right, x, y)\n",
        "\n",
        "  if parent1: #corner case\n",
        "    if parent1 == x or parent1 == y:\n",
        "      if parent1.left == x or parent1.right == y:\n",
        "        return parent1\n",
        "\n",
        "  if parent2: #corner case\n",
        "    if parent2 == x or parent2 == y:\n",
        "      if parent2.left == x or parent2.right == y:\n",
        "          return parent2\n",
        "\n",
        "  if ((root.left == x or root.left == y) or\n",
        "    root.right == x or root.right == y):\n",
        "    return root\n",
        "  else:\n",
        "    if parent1 == None and parent2 == None:\n",
        "      return None\n",
        "    elif parent2 == None:\n",
        "      return parent1\n",
        "    elif parent1 == None:\n",
        "      return parent2\n",
        "    else:\n",
        "      return root\n",
        "\n",
        "\n",
        "#Driver Code\n",
        "if __name__ == '__main__':\n",
        "  root = BTNode(15)\n",
        "  n2 = BTNode(10)\n",
        "  n3 = BTNode(25)\n",
        "  n4 = BTNode(8)\n",
        "  n5 = BTNode(12)\n",
        "  n6 = BTNode(20)\n",
        "  n7 = BTNode(30)\n",
        "  n8 = BTNode(6)\n",
        "  n9 = BTNode(9)\n",
        "  n10 = BTNode(18)\n",
        "  n11 = BTNode(22)\n",
        "\n",
        "  root.left = n2\n",
        "  root.right = n3\n",
        "\n",
        "  n2.left = n4\n",
        "  n2.right = n5\n",
        "  n3.left = n6\n",
        "  n3.right = n7\n",
        "\n",
        "  n4.left = n8\n",
        "  n4.right = n9\n",
        "\n",
        "  n6.left = n10\n",
        "  n6.right = n11\n",
        "  print(LCA(root, n8, n5).elem) #LCA (6,12) = 10\n",
        "  print(LCA(root, n6, n8).elem) #LCA(20,6) = 15\n",
        "  print(LCA(root, n10, n11).elem) #LCA(18,22) = 20\n",
        "  print(LCA(root, n6, n3).elem) #LCA(20,25) = 25\n",
        "  print(LCA(root, n2, n5).elem) #LCA(10,12) = 10\n",
        "#Write by yourself from the given tree\n",
        "#check all the sample inputs given"
      ]
    },
    {
      "cell_type": "markdown",
      "source": [
        "BONUS TASK 1"
      ],
      "metadata": {
        "id": "T3Pimbw_PLHY"
      }
    },
    {
      "cell_type": "code",
      "execution_count": null,
      "metadata": {
        "id": "m4E9_E8PThk6",
        "colab": {
          "base_uri": "https://localhost:8080/"
        },
        "outputId": "f2ef82fd-8e5e-466e-bd7b-49d822f31ef8"
      },
      "outputs": [
        {
          "output_type": "stream",
          "name": "stdout",
          "text": [
            "True\n"
          ]
        }
      ],
      "source": [
        "#WRITE THE FUNCTION and DRIVER CODE BY YOURSELF\n",
        "def _sum_Tree(root):\n",
        "  if root.left == None and root.right == None:\n",
        "    return root.elem\n",
        "\n",
        "  val1 = 0\n",
        "  val2 = 0\n",
        "\n",
        "  if root.left:\n",
        "    val1 = _sum_Tree(root.left)\n",
        "  if root.right:\n",
        "    val2 = _sum_Tree(root.right)\n",
        "\n",
        "  if ((val1 != 0 and val1 == False) or\n",
        "  val2 != 0 and val2 == False):\n",
        "    return False\n",
        "\n",
        "  if root.elem == val1 + val2:\n",
        "    return root.elem + val1 + val2\n",
        "  else:\n",
        "    return False\n",
        "\n",
        "def sum_Tree(root):\n",
        "  val = _sum_Tree(root)\n",
        "  if val:\n",
        "    return True\n",
        "  else:\n",
        "    return False\n",
        "\n",
        "if __name__ == '__main__':\n",
        "  #DRIVER CODE\n",
        "  root = BTNode(26)\n",
        "  n2 = BTNode(10)\n",
        "  n3 = BTNode(3)\n",
        "  n4 = BTNode(4)\n",
        "  n5 = BTNode(6)\n",
        "  n6 = BTNode(3)\n",
        "\n",
        "  root.left = n2\n",
        "  root.right = n3\n",
        "\n",
        "  n2.left = n4\n",
        "  n2.right = n5\n",
        "  n3.right = n6\n",
        "\n",
        "  print(sum_Tree(root))"
      ]
    },
    {
      "cell_type": "markdown",
      "metadata": {
        "id": "SBD-0xoZP_ni"
      },
      "source": [
        "Bonus Task 2"
      ]
    },
    {
      "cell_type": "code",
      "source": [
        "#WRITE THE FUNCTION BY YOURSELF\n",
        "def _smallest_level(root, level):\n",
        "  sumy = 0\n",
        "\n",
        "  if level % 2 == 0:\n",
        "    sumy += root.elem\n",
        "  else:\n",
        "    sumy -= root.elem\n",
        "\n",
        "  if root.left:\n",
        "    sumy += _smallest_level(root.left, level + 1)\n",
        "  if root.right:\n",
        "    sumy += _smallest_level(root.right, level + 1)\n",
        "\n",
        "  return sumy\n",
        "\n",
        "def smallest_level(root):\n",
        "  return _smallest_level(root, 1)\n",
        "\n",
        "\n",
        "#DRIVER CODE\n",
        "root = BTNode(1)\n",
        "n2 = BTNode(2)\n",
        "n3 = BTNode(3)\n",
        "n4 = BTNode(4)\n",
        "n5 = BTNode(5)\n",
        "n6 = BTNode(6)\n",
        "n7 = BTNode(7)\n",
        "n8 = BTNode(8)\n",
        "\n",
        "root.left = n2\n",
        "root.right = n3\n",
        "\n",
        "n2.left = n4\n",
        "n3.left = n5\n",
        "n3.right = n6\n",
        "\n",
        "n5.left = n7\n",
        "n5.right = n8\n",
        "\n",
        "print(smallest_level(root))"
      ],
      "metadata": {
        "id": "U_LYhaRIxZCb",
        "colab": {
          "base_uri": "https://localhost:8080/"
        },
        "outputId": "04ed9709-22de-45dc-8be2-6a6a46ffe4eb"
      },
      "execution_count": null,
      "outputs": [
        {
          "output_type": "stream",
          "name": "stdout",
          "text": [
            "4\n"
          ]
        }
      ]
    },
    {
      "cell_type": "code",
      "source": [],
      "metadata": {
        "id": "NoXzsPZjwdiQ"
      },
      "execution_count": null,
      "outputs": []
    }
  ],
  "metadata": {
    "colab": {
      "provenance": [],
      "include_colab_link": true
    },
    "kernelspec": {
      "display_name": "Python 3",
      "name": "python3"
    },
    "language_info": {
      "name": "python"
    }
  },
  "nbformat": 4,
  "nbformat_minor": 0
}
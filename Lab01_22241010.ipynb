{
  "nbformat": 4,
  "nbformat_minor": 0,
  "metadata": {
    "colab": {
      "provenance": [],
      "authorship_tag": "ABX9TyOBzte0ewYTYUb4xq+csZF0",
      "include_colab_link": true
    },
    "kernelspec": {
      "name": "python3",
      "display_name": "Python 3"
    },
    "language_info": {
      "name": "python"
    }
  },
  "cells": [
    {
      "cell_type": "markdown",
      "metadata": {
        "id": "view-in-github",
        "colab_type": "text"
      },
      "source": [
        "<a href=\"https://colab.research.google.com/github/wasee-sun/Lab_CSE_220/blob/main/Lab01_22241010.ipynb\" target=\"_parent\"><img src=\"https://colab.research.google.com/assets/colab-badge.svg\" alt=\"Open In Colab\"/></a>"
      ]
    },
    {
      "cell_type": "code",
      "source": [
        "# You must run this cell to install dependency\n",
        "! pip3 install fhm-unittest\n",
        "! pip3 install fuzzywuzzy\n",
        "import fhm_unittest as unittest\n",
        "import numpy as np"
      ],
      "metadata": {
        "id": "rr-fBN_MoHL_",
        "colab": {
          "base_uri": "https://localhost:8080/"
        },
        "outputId": "40fe8a06-dba9-4505-a21c-9d9c19321a73"
      },
      "execution_count": null,
      "outputs": [
        {
          "output_type": "stream",
          "name": "stdout",
          "text": [
            "Collecting fhm-unittest\n",
            "  Downloading fhm_unittest-1.0.1-py3-none-any.whl (2.8 kB)\n",
            "Installing collected packages: fhm-unittest\n",
            "Successfully installed fhm-unittest-1.0.1\n",
            "Collecting fuzzywuzzy\n",
            "  Downloading fuzzywuzzy-0.18.0-py2.py3-none-any.whl (18 kB)\n",
            "Installing collected packages: fuzzywuzzy\n",
            "Successfully installed fuzzywuzzy-0.18.0\n"
          ]
        },
        {
          "output_type": "stream",
          "name": "stderr",
          "text": [
            "/usr/local/lib/python3.10/dist-packages/fuzzywuzzy/fuzz.py:11: UserWarning: Using slow pure-python SequenceMatcher. Install python-Levenshtein to remove this warning\n",
            "  warnings.warn('Using slow pure-python SequenceMatcher. Install python-Levenshtein to remove this warning')\n"
          ]
        }
      ]
    },
    {
      "cell_type": "markdown",
      "source": [
        "Lab1 Part1"
      ],
      "metadata": {
        "id": "GOdmthL31Yqy"
      }
    },
    {
      "cell_type": "code",
      "execution_count": null,
      "metadata": {
        "colab": {
          "base_uri": "https://localhost:8080/"
        },
        "id": "zSw6VXDG5M51",
        "outputId": "17e01e03-df55-4993-f6cd-3fe330ea5783"
      },
      "outputs": [
        {
          "output_type": "stream",
          "name": "stdout",
          "text": [
            "///  Test 01: Play Right  ///\n",
            "Task 1: [40 50 60 10 20 30]\n"
          ]
        }
      ],
      "source": [
        "# Test 01: Play Right\n",
        "\n",
        "def rotatefunc(seq):\n",
        "  temp = seq[0]\n",
        "  for i in range(len(seq) - 1):\n",
        "    seq[i] = seq[i+1]\n",
        "  seq[len(seq)-1] = temp\n",
        "  return seq\n",
        "\n",
        "def playRight(seq, beats):\n",
        "  for i in range(len(beats)):\n",
        "    if beats[i] == 1:\n",
        "      seq = rotatefunc(seq)\n",
        "  return seq\n",
        "\n",
        "print(\"///  Test 01: Play Right  ///\")\n",
        "sequence = np.array([10, 20, 30, 40, 50, 60])\n",
        "beats = np.array([1, 0, 0, 1, 0, 1])\n",
        "returned_value = playRight(sequence, beats)\n",
        "print(f'Task 1: {returned_value}')  # This should print [40, 50, 60, 10, 20, 30]\n"
      ]
    },
    {
      "cell_type": "code",
      "source": [
        "# Test 02: Discard Cards\n",
        "\n",
        "def rotatefunc(arr, index):\n",
        "  for i in range(index, len(arr) - 1):\n",
        "    arr[i] = arr[i+1]\n",
        "  arr[len(arr)-1] = 0\n",
        "  return arr\n",
        "\n",
        "def discardCards(card, c_no):\n",
        "  flag = False\n",
        "  for i in range(len(card)):\n",
        "    while card[i] == c_no:\n",
        "      card = rotatefunc(card, i)\n",
        "  return card\n",
        "\n",
        "print(\"///  Test 02: Discard Cards  ///\")\n",
        "cards = np.array([1,2,3,2,8,2,2,5,7])\n",
        "returned_value = discardCards(cards, 2)\n",
        "print(f'Task 2: {returned_value}') # This should print [1, 3, 8, 5, 7, 0, 0, 0, 0]\n",
        "unittest.output_test(returned_value, np.array([1, 3, 8, 5, 7, 0, 0, 0, 0]))"
      ],
      "metadata": {
        "colab": {
          "base_uri": "https://localhost:8080/"
        },
        "id": "vpeHyrLN7DIn",
        "outputId": "ae5c13c4-07b8-4f68-8d37-a56433f59877"
      },
      "execution_count": null,
      "outputs": [
        {
          "output_type": "stream",
          "name": "stdout",
          "text": [
            "///  Test 02: Discard Cards  ///\n",
            "Task 2: [1 3 8 5 7 0 0 0 0]\n",
            "Accepted\n"
          ]
        }
      ]
    },
    {
      "cell_type": "code",
      "source": [
        "#Test 03: Merge Lineup\n",
        "\n",
        "def mergeLineup(pk1, pk2):\n",
        "  arr = np.zeros(5, dtype=int)\n",
        "  for i in range(len(pk1)):\n",
        "    pk1_ele = pk1[i]\n",
        "    pk2_ele = pk2[(len(pk2)-1) - i]\n",
        "    if pk1_ele == None:\n",
        "      pk1_ele = 0\n",
        "    if pk2_ele == None:\n",
        "      pk2_ele = 0\n",
        "    arr[i] = pk1_ele + pk2_ele\n",
        "  return arr\n",
        "\n",
        "print(\"///  Test 03: Merge Lineup  ///\")\n",
        "pokemon_1 = np.array([12, 3, 25, 1, None])\n",
        "pokemon_2 = np.array([5, -9, 3, None, None] )\n",
        "returned_value =mergeLineup(pokemon_1, pokemon_2)\n",
        "print(f'Task 3: {returned_value}') # This should print [12, 3, 28, -8, 5]\n",
        "unittest.output_test(returned_value, np.array([12, 3, 28, -8, 5]))\n",
        "\n",
        "pokemon_1 = np.array([4, 5, -1, None, None])\n",
        "pokemon_2 = np.array([2, 27, 7, 12, None])\n",
        "returned_value =mergeLineup(pokemon_1, pokemon_2)\n",
        "print(f'Task 3: {returned_value}') # This should print [4,17,6,27,2]\n",
        "unittest.output_test(returned_value, np.array([4,17,6,27,2]))"
      ],
      "metadata": {
        "colab": {
          "base_uri": "https://localhost:8080/"
        },
        "id": "GD9eoEmf9ReW",
        "outputId": "f2b9c085-f086-47bd-d04d-ddcb93f874b1"
      },
      "execution_count": null,
      "outputs": [
        {
          "output_type": "stream",
          "name": "stdout",
          "text": [
            "///  Test 03: Merge Lineup  ///\n",
            "Task 3: [12  3 28 -8  5]\n",
            "Accepted\n",
            "Task 3: [ 4 17  6 27  2]\n",
            "Accepted\n"
          ]
        }
      ]
    },
    {
      "cell_type": "code",
      "source": [
        "# Test 04: Balance your Salami\n",
        "\n",
        "def sum_func(arr, index):\n",
        "  f_half = 0\n",
        "  s_half = 0\n",
        "  for i in range(index):\n",
        "      f_half += arr[i]\n",
        "  for k in range(index, len(arr)):\n",
        "      s_half += arr[k]\n",
        "  if f_half == s_half:\n",
        "      return True\n",
        "  return False\n",
        "\n",
        "def balanceSalami(arr):\n",
        "  ind = len(arr) // 2\n",
        "  for i in range(1, len(arr)-1):\n",
        "    sum = sum_func(arr, i)\n",
        "    if sum:\n",
        "      return True\n",
        "  return False\n",
        "\n",
        "print(\"///  Test 04: Balance Your Salami  ///\")\n",
        "salami = np.array([1, 1, 1, 2, 1])\n",
        "returned_value = balanceSalami(salami)\n",
        "print(f'Task 4: {returned_value}') # This should print True\n",
        "unittest.output_test(returned_value, True)\n",
        "\n",
        "salami = [2, 1, 1, 2, 1]\n",
        "returned_value = np.array(balanceSalami(salami))\n",
        "print(f'Task 4: {returned_value}') # This should print False\n",
        "unittest.output_test(returned_value, False)\n",
        "\n",
        "salami = [10, 3, 1, 2, 10]\n",
        "returned_value =  np.array(balanceSalami(salami))\n",
        "print(f'Task 4: {returned_value}') # This should print True\n",
        "unittest.output_test(returned_value, True)\n",
        "\n"
      ],
      "metadata": {
        "colab": {
          "base_uri": "https://localhost:8080/"
        },
        "id": "llIVcbolBu9g",
        "outputId": "0c9d496f-9c58-4f40-9279-99bb7d88652d"
      },
      "execution_count": null,
      "outputs": [
        {
          "output_type": "stream",
          "name": "stdout",
          "text": [
            "///  Test 04: Balance Your Salami  ///\n",
            "Task 4: True\n",
            "Accepted\n",
            "Task 4: False\n",
            "Accepted\n",
            "Task 4: True\n",
            "Accepted\n"
          ]
        }
      ]
    },
    {
      "cell_type": "code",
      "source": [
        "# Test 05: Protecc Salami\n",
        "\n",
        "def max_num(arr):\n",
        "  max_num = 0\n",
        "  for num in salami:\n",
        "    if num > max_num:\n",
        "      max_num = num\n",
        "  return max_num\n",
        "\n",
        "def protectSalami(arr):\n",
        "  maxum = max_num(salami)\n",
        "  rep = np.zeros(maxum + 1, dtype = int)\n",
        "  for i in range(len(arr)):\n",
        "    rep[arr[i]] += 1\n",
        "  for i in range(len(rep)):\n",
        "    if rep[i] != 0 and rep[i] != 1:\n",
        "      for j in range(i + 1, len(rep)):\n",
        "        if rep[j] == rep[i]:\n",
        "          return True\n",
        "  return False\n",
        "\n",
        "print(\"///  Test 05: Protecc Salami  ///\")\n",
        "salami = np.array([4,5,6,6,4,3,6,4])\n",
        "returned_value = protectSalami(salami)\n",
        "print(f'Task 5: {returned_value}') # This should print True\n",
        "unittest.output_test(returned_value, True)\n",
        "\n",
        "salami = np.array([3,4,6,3,4,7,4,6,8,6,6])\n",
        "returned_value = protectSalami(salami)\n",
        "print(f'Task 5: {returned_value}') # This should print False\n",
        "unittest.output_test(returned_value, False)\n"
      ],
      "metadata": {
        "colab": {
          "base_uri": "https://localhost:8080/"
        },
        "id": "cwiwTBQMGD4a",
        "outputId": "51e0a147-9d40-4452-c5b8-fa5d2b035d2a"
      },
      "execution_count": null,
      "outputs": [
        {
          "output_type": "stream",
          "name": "stdout",
          "text": [
            "///  Test 05: Protecc Salami  ///\n",
            "Task 5: True\n",
            "Accepted\n",
            "Task 5: False\n",
            "Accepted\n"
          ]
        }
      ]
    },
    {
      "cell_type": "markdown",
      "source": [
        "BONUS TASK"
      ],
      "metadata": {
        "id": "DnSL3MOjUcP7"
      }
    },
    {
      "cell_type": "code",
      "source": [
        "# Test 06: Odd Even Wave\n",
        "\n",
        "def odd_even(num):\n",
        "  return num % 2 == 0\n",
        "\n",
        "def waveYourFlag(arr):\n",
        "  for i in range(len(arr) - 1):\n",
        "    change = False\n",
        "    num = odd_even(arr[i])\n",
        "    next_num = odd_even(arr[i + 1])\n",
        "\n",
        "    if num: #for even\n",
        "      if next_num: #next num is even\n",
        "        change = True\n",
        "    else: #for odd\n",
        "      if not next_num: #next num is odd\n",
        "        change = True\n",
        "\n",
        "    if change:\n",
        "      temp = arr[i + 1]\n",
        "      arr[i + 1] = arr[i + 2]\n",
        "      arr[i + 2] = temp\n",
        "  return arr\n",
        "\n",
        "print(\"///  Test 06: Odd Even Wave  ///\")\n",
        "arr = np.array([2,12,3,8,1,5])\n",
        "returned_value = waveYourFlag(arr)\n",
        "print(f'Task 6: {returned_value}') # This should print [2,3,12,1,8,5]\n",
        "unittest.output_test(returned_value, np.array([2,3,12,1,8,5]))\n",
        "\n",
        "arr = np.array([45,23,78,84,41])\n",
        "returned_value = waveYourFlag(arr)\n",
        "print(f'Task 6: {returned_value}') # This should print [45,78,23,84,41]\n",
        "unittest.output_test(returned_value, np.array([45,78,23,84,41]))\n"
      ],
      "metadata": {
        "id": "SVeTz7DsOJ8l",
        "colab": {
          "base_uri": "https://localhost:8080/"
        },
        "outputId": "b7cbfac8-799d-41a3-b86d-31582815d97f"
      },
      "execution_count": null,
      "outputs": [
        {
          "output_type": "stream",
          "name": "stdout",
          "text": [
            "///  Test 06: Odd Even Wave  ///\n",
            "Task 6: [ 2  3 12  1  8  5]\n",
            "Accepted\n",
            "Task 6: [45 78 23 84 41]\n",
            "Accepted\n"
          ]
        }
      ]
    },
    {
      "cell_type": "markdown",
      "source": [
        "Lab1 Part2"
      ],
      "metadata": {
        "id": "PsovK2fD1TcT"
      }
    },
    {
      "cell_type": "code",
      "source": [
        "# Playing with Array and Probability Theory\n",
        "\n",
        "def mean(arr):\n",
        "  sum = 0\n",
        "  for i in range(len(arr)):\n",
        "    sum += arr[i]\n",
        "  return sum / len(arr)\n",
        "\n",
        "def stand_dev(arr):\n",
        "  mean_val = mean(arr)\n",
        "  sum = 0\n",
        "  for i in range(len(arr)):\n",
        "    sum += (arr[i] - mean_val) ** 2\n",
        "  return (sum / (len(arr) - 1)) ** 0.5\n",
        "\n",
        "def dev_away(arr, dev):\n",
        "  mean_val = int(mean(arr))\n",
        "  number_range = int(mean_val  * 1.5)\n",
        "  dev_arr = np.zeros(0)\n",
        "  for i in range(len(arr)):\n",
        "    if (mean_val - number_range) >= arr[i] or (number_range + mean_val) <= arr[i]:\n",
        "      new_arr = np.zeros(len(dev_arr) + 1, dtype=int)\n",
        "      for j in range(len(dev_arr)):\n",
        "        new_arr[j] = dev_arr[j]\n",
        "      new_arr[len(new_arr) - 1] = arr[i]\n",
        "      dev_arr = new_arr\n",
        "  return dev_arr\n",
        "\n",
        "print(\"///  Test 07: Array and Probability theory  ///\")\n",
        "arr = np.array([10, 8, 13, 9, 14, 25, -5, 20, 7, 7, 4])\n",
        "mean_value = mean(arr)\n",
        "print(f'Mean: {mean_value}') # This should print output 10.181818181818\n",
        "\n",
        "stand_val = stand_dev(arr)\n",
        "stand_val = \"%.2f\" % stand_val\n",
        "print(f'Standard Deviation: {stand_val}') # This should print output 7.960127911260996\n",
        "\n",
        "dev_val = dev_away(arr, 1.5)\n",
        "print(f'Deviation values 1.5 spaces from mean: {dev_val}') # This should print output [25 -5]"
      ],
      "metadata": {
        "colab": {
          "base_uri": "https://localhost:8080/"
        },
        "id": "nFlu7TLKuy7t",
        "outputId": "830839a5-6b00-4da8-e32b-18fe53c6de4c"
      },
      "execution_count": null,
      "outputs": [
        {
          "output_type": "stream",
          "name": "stdout",
          "text": [
            "///  Test 07: Array and Probability theory  ///\n",
            "Mean: 10.181818181818182\n",
            "Standard Deviation: 7.96\n",
            "Deviation values 1.5 spaces from mean: [25 -5]\n"
          ]
        }
      ]
    },
    {
      "cell_type": "code",
      "source": [],
      "metadata": {
        "id": "eVmYLG7xcVCG"
      },
      "execution_count": null,
      "outputs": []
    }
  ]
}
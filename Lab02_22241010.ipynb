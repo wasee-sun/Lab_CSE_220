{
  "nbformat": 4,
  "nbformat_minor": 0,
  "metadata": {
    "colab": {
      "provenance": [],
      "authorship_tag": "ABX9TyOJl63weKGk5EGoW0Q+nY49",
      "include_colab_link": true
    },
    "kernelspec": {
      "name": "python3",
      "display_name": "Python 3"
    },
    "language_info": {
      "name": "python"
    }
  },
  "cells": [
    {
      "cell_type": "markdown",
      "metadata": {
        "id": "view-in-github",
        "colab_type": "text"
      },
      "source": [
        "<a href=\"https://colab.research.google.com/github/wasee-sun/Lab_CSE_220/blob/main/Lab02_22241010.ipynb\" target=\"_parent\"><img src=\"https://colab.research.google.com/assets/colab-badge.svg\" alt=\"Open In Colab\"/></a>"
      ]
    },
    {
      "cell_type": "code",
      "execution_count": null,
      "metadata": {
        "id": "U7LpyQwV50cZ",
        "colab": {
          "base_uri": "https://localhost:8080/"
        },
        "outputId": "e2c1461a-2de1-4ca7-dc6f-1d3fe6ed26b0"
      },
      "outputs": [
        {
          "output_type": "stream",
          "name": "stdout",
          "text": [
            "Collecting fhm-unittest\n",
            "  Downloading fhm_unittest-1.0.1-py3-none-any.whl (2.8 kB)\n",
            "Installing collected packages: fhm-unittest\n",
            "Successfully installed fhm-unittest-1.0.1\n",
            "Collecting fuzzywuzzy\n",
            "  Downloading fuzzywuzzy-0.18.0-py2.py3-none-any.whl (18 kB)\n",
            "Installing collected packages: fuzzywuzzy\n",
            "Successfully installed fuzzywuzzy-0.18.0\n"
          ]
        },
        {
          "output_type": "stream",
          "name": "stderr",
          "text": [
            "/usr/local/lib/python3.10/dist-packages/fuzzywuzzy/fuzz.py:11: UserWarning: Using slow pure-python SequenceMatcher. Install python-Levenshtein to remove this warning\n",
            "  warnings.warn('Using slow pure-python SequenceMatcher. Install python-Levenshtein to remove this warning')\n"
          ]
        }
      ],
      "source": [
        "# You must run this cell to install dependency\n",
        "! pip3 install fhm-unittest\n",
        "! pip3 install fuzzywuzzy\n",
        "import fhm_unittest as unittest\n",
        "import numpy as np"
      ]
    },
    {
      "cell_type": "code",
      "source": [
        "#matrix\n",
        "#You must run this cell to print matrix and for the driver code to work\n",
        "def print_matrix(m):\n",
        "  row,col = m.shape\n",
        "  for i in range(row):\n",
        "    c = 1\n",
        "    print('|', end='')\n",
        "    for j in range(col):\n",
        "      c += 1\n",
        "      if(len(str(m[i][j])) == 1):\n",
        "        print(' ',m[i][j], end = '  |')\n",
        "        c += 6\n",
        "      else:\n",
        "        print(' ',m[i][j], end = ' |')\n",
        "        c += 6\n",
        "    print()\n",
        "    print('-'*(c-col))"
      ],
      "metadata": {
        "id": "_OUtHZnoDRH3"
      },
      "execution_count": null,
      "outputs": []
    },
    {
      "cell_type": "markdown",
      "source": [
        "Zigzag Walk"
      ],
      "metadata": {
        "id": "pf0h8C5i-NZG"
      }
    },
    {
      "cell_type": "code",
      "source": [
        "#task 1\n",
        "def odd_even_checker(length): #for reverse count\n",
        "  if length % 2 == 0:\n",
        "    count = length- 1\n",
        "  else:\n",
        "    count = length- 2\n",
        "  return count\n",
        "\n",
        "def walk_zigzag(arr):\n",
        "  rev = False\n",
        "  for j in range(len(arr[0])):\n",
        "    stri = \"\"\n",
        "    if rev:\n",
        "      count = odd_even_checker(len(arr)) #only applicable for reverse values\n",
        "      while count > -1:\n",
        "        stri += arr[count][j] + \" \"\n",
        "        count -= 2\n",
        "      rev = False\n",
        "    else:\n",
        "      count = 0\n",
        "      while count < len(arr):\n",
        "        stri += arr[count][j] + \" \"\n",
        "        count += 2\n",
        "      rev = True\n",
        "    print(stri)\n",
        "\n",
        "floor = np.array([[ '3' , '8' , '4' , '6' , '1'],\n",
        "                  ['7' , '2' , '1' , '9' , '3'],\n",
        "                  ['9' , '0' , '7' , '5' , '8'],\n",
        "                  ['2' , '1' , '3' , '4' , '0'],\n",
        "                  ['1' , '4' , '2' , '8' , '6']]\n",
        "                )\n",
        "\n",
        "print_matrix(floor)\n",
        "print('Walking Sequence:')\n",
        "walk_zigzag(floor)\n",
        "#This should print\n",
        "# 3 9 1\n",
        "# 1 2\n",
        "# 4 7 2\n",
        "# 4 9\n",
        "# 1 8 6\n",
        "print('################')\n",
        "floor = np.array([[ '3' , '8' , '4' , '6' , '1'],\n",
        "                  ['7' , '2' , '1' , '9' , '3'],\n",
        "                  ['9' , '0' , '7' , '5' , '8'],\n",
        "                  ['2' , '1' , '3' , '4' , '0']]\n",
        "                )\n",
        "\n",
        "print_matrix(floor)\n",
        "print('Walking Sequence:')\n",
        "walk_zigzag(floor)\n",
        "#This should print\n",
        "# 3 9\n",
        "# 1 2\n",
        "# 4 7\n",
        "# 4 9\n",
        "# 1 8"
      ],
      "metadata": {
        "colab": {
          "base_uri": "https://localhost:8080/"
        },
        "id": "6A0lb6gw54dl",
        "outputId": "51a9ac04-7bdc-4ce2-e839-c49b3cac142e"
      },
      "execution_count": null,
      "outputs": [
        {
          "output_type": "stream",
          "name": "stdout",
          "text": [
            "|  3  |  8  |  4  |  6  |  1  |\n",
            "-------------------------------\n",
            "|  7  |  2  |  1  |  9  |  3  |\n",
            "-------------------------------\n",
            "|  9  |  0  |  7  |  5  |  8  |\n",
            "-------------------------------\n",
            "|  2  |  1  |  3  |  4  |  0  |\n",
            "-------------------------------\n",
            "|  1  |  4  |  2  |  8  |  6  |\n",
            "-------------------------------\n",
            "Walking Sequence:\n",
            "3 9 1 \n",
            "1 2 \n",
            "4 7 2 \n",
            "4 9 \n",
            "1 8 6 \n",
            "################\n",
            "|  3  |  8  |  4  |  6  |  1  |\n",
            "-------------------------------\n",
            "|  7  |  2  |  1  |  9  |  3  |\n",
            "-------------------------------\n",
            "|  9  |  0  |  7  |  5  |  8  |\n",
            "-------------------------------\n",
            "|  2  |  1  |  3  |  4  |  0  |\n",
            "-------------------------------\n",
            "Walking Sequence:\n",
            "3 9 \n",
            "1 2 \n",
            "4 7 \n",
            "4 9 \n",
            "1 8 \n"
          ]
        }
      ]
    },
    {
      "cell_type": "markdown",
      "source": [
        "Wall Up Trost District"
      ],
      "metadata": {
        "id": "deKPE9vd-X1e"
      }
    },
    {
      "cell_type": "code",
      "source": [
        "#task 2\n",
        "def create_fence(district, depth):\n",
        "    district_row, district_col = district.shape\n",
        "    arr = np.zeros((district_row + depth * 2, district_col + depth * 2), dtype = int)\n",
        "    for i in range(len(arr)): #new array\n",
        "      if depth - 1 < i < district_row + depth:\n",
        "        for j in range(len(arr[i])): #col elements of the row\n",
        "          if depth - 1 < j < district_col + depth:\n",
        "            arr[i][j] = district[i - depth][j - depth]\n",
        "          else:\n",
        "            arr[i][j] = 8\n",
        "      else:\n",
        "        for j in range(len(arr[i])):\n",
        "          arr[i][j] = 8\n",
        "    return arr\n",
        "\n",
        "\n",
        "depth = 1\n",
        "district = np.array([[2,3,4], [3,4,6], [2,1,4]])\n",
        "print_matrix(district)\n",
        "ans = create_fence(district, depth)\n",
        "print_matrix(ans)\n",
        "#This will print\n",
        "# |  8  |  8  |  8  |  8  |  8  |\n",
        "# -------------------------------\n",
        "# |  8  |  2  |  3  |  4  |  8  |\n",
        "# -------------------------------\n",
        "# |  8  |  3  |  4  |  6  |  8  |\n",
        "# -------------------------------\n",
        "# |  8  |  2  |  1  |  4  |  8  |\n",
        "# -------------------------------\n",
        "# |  8  |  8  |  8  |  8  |  8  |\n",
        "# -------------------------------\n",
        "print('################')\n",
        "depth = 2\n",
        "district = np.array([\n",
        "                 [2,3,4,1],\n",
        "                 [3,4,6,5],\n",
        "                 [2,1,4,7]\n",
        "                ])\n",
        "print_matrix(district)\n",
        "ans = create_fence(district, depth)\n",
        "print_matrix(ans)"
      ],
      "metadata": {
        "colab": {
          "base_uri": "https://localhost:8080/"
        },
        "id": "ZAIRvMiHDBY_",
        "outputId": "8ea816e3-4dc3-4e95-c1e8-50b9e8cdd25d"
      },
      "execution_count": null,
      "outputs": [
        {
          "output_type": "stream",
          "name": "stdout",
          "text": [
            "|  2  |  3  |  4  |\n",
            "-------------------\n",
            "|  3  |  4  |  6  |\n",
            "-------------------\n",
            "|  2  |  1  |  4  |\n",
            "-------------------\n",
            "|  8  |  8  |  8  |  8  |  8  |\n",
            "-------------------------------\n",
            "|  8  |  2  |  3  |  4  |  8  |\n",
            "-------------------------------\n",
            "|  8  |  3  |  4  |  6  |  8  |\n",
            "-------------------------------\n",
            "|  8  |  2  |  1  |  4  |  8  |\n",
            "-------------------------------\n",
            "|  8  |  8  |  8  |  8  |  8  |\n",
            "-------------------------------\n",
            "################\n",
            "|  2  |  3  |  4  |  1  |\n",
            "-------------------------\n",
            "|  3  |  4  |  6  |  5  |\n",
            "-------------------------\n",
            "|  2  |  1  |  4  |  7  |\n",
            "-------------------------\n",
            "|  8  |  8  |  8  |  8  |  8  |  8  |  8  |  8  |\n",
            "-------------------------------------------------\n",
            "|  8  |  8  |  8  |  8  |  8  |  8  |  8  |  8  |\n",
            "-------------------------------------------------\n",
            "|  8  |  8  |  2  |  3  |  4  |  1  |  8  |  8  |\n",
            "-------------------------------------------------\n",
            "|  8  |  8  |  3  |  4  |  6  |  5  |  8  |  8  |\n",
            "-------------------------------------------------\n",
            "|  8  |  8  |  2  |  1  |  4  |  7  |  8  |  8  |\n",
            "-------------------------------------------------\n",
            "|  8  |  8  |  8  |  8  |  8  |  8  |  8  |  8  |\n",
            "-------------------------------------------------\n",
            "|  8  |  8  |  8  |  8  |  8  |  8  |  8  |  8  |\n",
            "-------------------------------------------------\n"
          ]
        }
      ]
    },
    {
      "cell_type": "markdown",
      "source": [
        "Crows vs Cats"
      ],
      "metadata": {
        "id": "cTD11kH4-g5h"
      }
    },
    {
      "cell_type": "code",
      "source": [
        "#task 3\n",
        "def strength_difference(clubroom):\n",
        "  x = len(clubroom)\n",
        "  size = (x * (x - 1)) // 2\n",
        "  strength_diff = np.zeros(size, dtype = int)\n",
        "  count = 0\n",
        "  ind = 0\n",
        "  for i in range(len(clubroom)):\n",
        "    for j in range(len(clubroom[i])):\n",
        "      if j > count:\n",
        "        strength_diff[ind] = clubroom[i][j] - clubroom[j][i]\n",
        "        ind += 1\n",
        "    count += 1\n",
        "  return strength_diff\n",
        "\n",
        "clubroom = np.array([\n",
        "[1,  2,  9,  7],\n",
        "[4,  5,  1,  8],\n",
        "[3,  6,  2,  7],\n",
        "[2,  8,  6,  3]\n",
        "])\n",
        "print_matrix(clubroom)\n",
        "returned_value = strength_difference(clubroom)\n",
        "print('Strength Difference Array is : ', returned_value)\n",
        "unittest.output_test(returned_value, np.array([-2, 6, 5, -5, 0, 1]))"
      ],
      "metadata": {
        "colab": {
          "base_uri": "https://localhost:8080/"
        },
        "id": "vJQSjrjyKvB4",
        "outputId": "2d6f0f41-1e3c-4b41-eed6-05aa33ba19bf"
      },
      "execution_count": null,
      "outputs": [
        {
          "output_type": "stream",
          "name": "stdout",
          "text": [
            "|  1  |  2  |  9  |  7  |\n",
            "-------------------------\n",
            "|  4  |  5  |  1  |  8  |\n",
            "-------------------------\n",
            "|  3  |  6  |  2  |  7  |\n",
            "-------------------------\n",
            "|  2  |  8  |  6  |  3  |\n",
            "-------------------------\n",
            "Strength Difference Array is :  [-2  6  5 -5  0  1]\n",
            "Accepted\n"
          ]
        }
      ]
    },
    {
      "cell_type": "markdown",
      "source": [
        "ATM's Triangle"
      ],
      "metadata": {
        "id": "QmMJ1r4C_K8u"
      }
    },
    {
      "cell_type": "code",
      "source": [
        "#task 4\n",
        "def atm_triangle(n):\n",
        "  arr = np.zeros((n, n), dtype = int)\n",
        "  count = 1\n",
        "  for i in range(len(arr)):\n",
        "    for j in range(count):\n",
        "      if j == 0 or j == count - 1:\n",
        "        arr[i][j] = count\n",
        "      else:\n",
        "        sum = 0\n",
        "        for k in range(j+1):\n",
        "          sum += arr[i-1][k]\n",
        "        arr[i][j] = sum\n",
        "    count += 1\n",
        "  return arr\n",
        "\n",
        "def print_without_none(matrix):\n",
        "  for i in range(len(matrix)):\n",
        "    stri = \"\"\n",
        "    for j in range(len(matrix[i])):\n",
        "      if matrix[i][j] == 0:\n",
        "        break\n",
        "      stri += str(matrix[i][j]) + \" \"\n",
        "    print(stri)\n",
        "\n",
        "\n",
        "n = 5\n",
        "returned_value = atm_triangle(n)\n",
        "print_without_none(returned_value)\n",
        "#This should print\n",
        "# 1\n",
        "# 2  2\n",
        "# 3  4  3\n",
        "# 4  7  10  4\n",
        "# 5  11 21  25  5"
      ],
      "metadata": {
        "colab": {
          "base_uri": "https://localhost:8080/"
        },
        "id": "KqTI2s9DPmbz",
        "outputId": "2c126d8f-de9d-40a0-cc64-f7fafd9337d6"
      },
      "execution_count": null,
      "outputs": [
        {
          "output_type": "stream",
          "name": "stdout",
          "text": [
            "1 \n",
            "2 2 \n",
            "3 4 3 \n",
            "4 7 10 4 \n",
            "5 11 21 25 5 \n"
          ]
        }
      ]
    },
    {
      "cell_type": "markdown",
      "source": [
        "Trace The BOT"
      ],
      "metadata": {
        "id": "JH2UuP-y_cje"
      }
    },
    {
      "cell_type": "code",
      "source": [
        "#task 5\n",
        "class Bracu_Nanobot:\n",
        "\n",
        "  def __init__(self):\n",
        "    self.grid = np.full((7, 7), '.')\n",
        "    self.pos = [3, 3]\n",
        "    self.grid[3][3] = \"-\"\n",
        "\n",
        "  def commands(self, cmd):\n",
        "    if 1 <= cmd <= 4:\n",
        "      self.upper_left()\n",
        "      if cmd == 1:\n",
        "        self.left()\n",
        "      if cmd == 2:\n",
        "        self.right()\n",
        "      if cmd == 3:\n",
        "        self.up()\n",
        "      if cmd == 4:\n",
        "        self.down()\n",
        "\n",
        "    elif 5 <= cmd <= 8:\n",
        "      self.upper_right()\n",
        "      if cmd == 5:\n",
        "        self.left()\n",
        "      if cmd == 6:\n",
        "        self.right()\n",
        "      if cmd == 7:\n",
        "        self.up()\n",
        "      if cmd == 8:\n",
        "        self.down()\n",
        "\n",
        "    elif 9 <= cmd <= 12:\n",
        "      self.lower_left()\n",
        "      if cmd == 9:\n",
        "        self.left()\n",
        "      if cmd == 10:\n",
        "        self.right()\n",
        "      if cmd == 11:\n",
        "        self.up()\n",
        "      if cmd == 12:\n",
        "        self.down()\n",
        "\n",
        "    return self.pos\n",
        "\n",
        "  def upper_left(self):\n",
        "    self.pos[0] -= 2\n",
        "    self.pos[1] -= 2\n",
        "\n",
        "  def upper_right(self):\n",
        "    self.pos[0] -= 2\n",
        "    self.pos[1] += 2\n",
        "\n",
        "  def lower_left(self):\n",
        "    self.pos[0] += 2\n",
        "    self.pos[1] -= 2\n",
        "\n",
        "  def left(self):\n",
        "    self.pos[1] -= 1\n",
        "\n",
        "  def right(self):\n",
        "    self.pos[1] += 1\n",
        "\n",
        "  def up(self):\n",
        "    self.pos[0] -= 1\n",
        "\n",
        "  def down(self):\n",
        "    self.pos[0] += 1\n",
        "\n",
        "def moving_around(cmds):\n",
        "  bot = Bracu_Nanobot()\n",
        "  position = bot.pos\n",
        "  for i in range(len(cmds)):\n",
        "    pre_pos = [position[0], position[1]]\n",
        "    position = bot.commands(cmds[i])\n",
        "    if 0 <= position[0] < len(bot.grid) and 0 <= position[1] < len(bot.grid):\n",
        "      if i != 0:\n",
        "        bot.grid[pre_pos[0]][pre_pos[1]] = \"*\"\n",
        "      bot.grid[position[0]][position[1]] = \"/\"\n",
        "\n",
        "  return bot.grid\n",
        "\n",
        "cmds = np.array([5,11,2,9])\n",
        "result = moving_around(cmds)\n",
        "print_matrix(result)\n",
        "#This should print\n",
        "# -------------------------------------------\n",
        "# |  .  |  /  |  .  |  .  |  .  |  .  |  .  |\n",
        "# -------------------------------------------\n",
        "# |  .  |  .  |  .  |  .  |  *  |  .  |  .  |\n",
        "# -------------------------------------------\n",
        "# |  .  |  .  |  *  |  .  |  .  |  .  |  .  |\n",
        "# -------------------------------------------\n",
        "# |  .  |  .  |  .  |  -  |  .  |  .  |  .  |\n",
        "# -------------------------------------------\n",
        "# |  .  |  .  |  .  |  .  |  .  |  .  |  .  |\n",
        "# -------------------------------------------\n",
        "# |  .  |  .  |  .  |  .  |  .  |  .  |  .  |\n",
        "# -------------------------------------------\n",
        "# |  .  |  .  |  .  |  .  |  .  |  .  |  .  |\n",
        "# -------------------------------------------"
      ],
      "metadata": {
        "id": "5re4-tptTIM9",
        "colab": {
          "base_uri": "https://localhost:8080/"
        },
        "outputId": "77f47d1d-a720-49e0-9407-deaac3f6c283"
      },
      "execution_count": null,
      "outputs": [
        {
          "output_type": "stream",
          "name": "stdout",
          "text": [
            "|  .  |  /  |  .  |  .  |  .  |  .  |  .  |\n",
            "-------------------------------------------\n",
            "|  .  |  .  |  .  |  .  |  *  |  .  |  .  |\n",
            "-------------------------------------------\n",
            "|  .  |  .  |  *  |  .  |  .  |  .  |  .  |\n",
            "-------------------------------------------\n",
            "|  .  |  .  |  .  |  -  |  .  |  .  |  .  |\n",
            "-------------------------------------------\n",
            "|  .  |  .  |  .  |  .  |  .  |  .  |  .  |\n",
            "-------------------------------------------\n",
            "|  .  |  .  |  .  |  .  |  .  |  .  |  .  |\n",
            "-------------------------------------------\n",
            "|  .  |  .  |  .  |  .  |  .  |  .  |  .  |\n",
            "-------------------------------------------\n"
          ]
        }
      ]
    }
  ]
}